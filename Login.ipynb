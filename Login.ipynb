{
 "cells": [
  {
   "cell_type": "code",
   "execution_count": 5,
   "id": "bce82c07",
   "metadata": {},
   "outputs": [
    {
     "name": "stderr",
     "output_type": "stream",
     "text": [
      "C:\\Users\\Dell\\AppData\\Local\\Temp\\ipykernel_1292\\1232026844.py:3: DeprecationWarning: executable_path has been deprecated, please pass in a Service object\n",
      "  nav = webdriver.Chrome(\"chromedriver.exe\")\n"
     ]
    }
   ],
   "source": [
    "from selenium import webdriver\n",
    "\n",
    "nav = webdriver.Chrome(\"chromedriver.exe\")\n",
    "\n",
    "nav.get(\"https://www.gmail.com\")\n",
    "\n",
    "nav.find_element('xpath',\n",
    "                      '//*[@id=\"identifierId\"]').send_keys(\"t.dark.gui@gmail.com\")\n",
    "nav.find_element('xpath',\n",
    "                    '//*[@id=\"identifierNext\"]/div/button/span').click()\n",
    "\n",
    "nav.implicitly_wait(4)\n"
   ]
  },
  {
   "cell_type": "code",
   "execution_count": null,
   "id": "38438084",
   "metadata": {},
   "outputs": [],
   "source": []
  }
 ],
 "metadata": {
  "kernelspec": {
   "display_name": "Python 3 (ipykernel)",
   "language": "python",
   "name": "python3"
  },
  "language_info": {
   "codemirror_mode": {
    "name": "ipython",
    "version": 3
   },
   "file_extension": ".py",
   "mimetype": "text/x-python",
   "name": "python",
   "nbconvert_exporter": "python",
   "pygments_lexer": "ipython3",
   "version": "3.9.13"
  }
 },
 "nbformat": 4,
 "nbformat_minor": 5
}
