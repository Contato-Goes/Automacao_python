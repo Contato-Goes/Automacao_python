{
 "cells": [
  {
   "cell_type": "code",
   "execution_count": 29,
   "id": "1a274d43",
   "metadata": {},
   "outputs": [
    {
     "data": {
      "text/html": [
       "<div>\n",
       "<style scoped>\n",
       "    .dataframe tbody tr th:only-of-type {\n",
       "        vertical-align: middle;\n",
       "    }\n",
       "\n",
       "    .dataframe tbody tr th {\n",
       "        vertical-align: top;\n",
       "    }\n",
       "\n",
       "    .dataframe thead th {\n",
       "        text-align: right;\n",
       "    }\n",
       "</style>\n",
       "<table border=\"1\" class=\"dataframe\">\n",
       "  <thead>\n",
       "    <tr style=\"text-align: right;\">\n",
       "      <th></th>\n",
       "      <th>Pessoa</th>\n",
       "      <th>Numero</th>\n",
       "      <th>Mensagem</th>\n",
       "    </tr>\n",
       "  </thead>\n",
       "  <tbody>\n",
       "    <tr>\n",
       "      <th>0</th>\n",
       "      <td>Camila</td>\n",
       "      <td>+55 11 94956-3261</td>\n",
       "      <td>Está mensagem foi enviada de forma automatica,...</td>\n",
       "    </tr>\n",
       "    <tr>\n",
       "      <th>1</th>\n",
       "      <td>Aldir</td>\n",
       "      <td>+55 11 94841-7393</td>\n",
       "      <td>Está mensagem foi enviada de forma automatica,...</td>\n",
       "    </tr>\n",
       "    <tr>\n",
       "      <th>2</th>\n",
       "      <td>Adriano</td>\n",
       "      <td>+55 11 96367-6778</td>\n",
       "      <td>Está mensagem foi enviada de forma automatica,...</td>\n",
       "    </tr>\n",
       "  </tbody>\n",
       "</table>\n",
       "</div>"
      ],
      "text/plain": [
       "    Pessoa             Numero  \\\n",
       "0   Camila  +55 11 94956-3261   \n",
       "1    Aldir  +55 11 94841-7393   \n",
       "2  Adriano  +55 11 96367-6778   \n",
       "\n",
       "                                            Mensagem  \n",
       "0  Está mensagem foi enviada de forma automatica,...  \n",
       "1  Está mensagem foi enviada de forma automatica,...  \n",
       "2  Está mensagem foi enviada de forma automatica,...  "
      ]
     },
     "metadata": {},
     "output_type": "display_data"
    }
   ],
   "source": [
    "import pandas as pd\n",
    "import time\n",
    "import urllib\n",
    "from selenium import webdriver\n",
    "from selenium.webdriver.common.keys import Keys\n",
    "from selenium.webdriver.common.by import By\n",
    "\n",
    "#Adicionando a lista de contatos e mostrando ela\n",
    "contatos_df = pd.read_excel(\"contatos.xlsx\")\n",
    "display(contatos_df)\n",
    "\n",
    "navegador = webdriver.Chrome()\n",
    "navegador.get(\"https://web.whatsapp.com/\")\n",
    "\n",
    "while len(navegador.find_elements(By.ID, \"side\")) < 1:\n",
    "    time.sleep(1)\n",
    "    \n",
    "#Login ja feito\n",
    "\n",
    "#Entrando nas conversas e escrevendo a mesangem\n",
    "for i, mensagem in enumerate(contatos_df['Mensagem']):\n",
    "    pessoa = contatos_df.loc[i,\"Pessoa\"]\n",
    "    numero = contatos_df.loc[i,\"Numero\"]\n",
    "    texto = urllib.parse.quote(f\"Ola {pessoa}! {mensagem}\")\n",
    "    link = f\"https://web.whatsapp.com/send?phone={numero}&text={texto}\"\n",
    "    navegador.get(link)\n",
    "    while len(navegador.find_elements(By.ID, \"side\")) < 1:\n",
    "        time.sleep(10)\n",
    "    navegador.find_element(By.XPATH, '//*[@id=\"main\"]/footer/div[1]/div/span[2]/div/div[2]/div[1]/div/div').send_keys(Keys.ENTER)\n",
    "    #Quanto maior o tempo, mais humano o codigo será para o whats, diminuindo assim a chance de block\n",
    "    time.sleep(18)\n"
   ]
  },
  {
   "cell_type": "code",
   "execution_count": null,
   "id": "b453556f",
   "metadata": {},
   "outputs": [],
   "source": []
  }
 ],
 "metadata": {
  "kernelspec": {
   "display_name": "Python 3 (ipykernel)",
   "language": "python",
   "name": "python3"
  },
  "language_info": {
   "codemirror_mode": {
    "name": "ipython",
    "version": 3
   },
   "file_extension": ".py",
   "mimetype": "text/x-python",
   "name": "python",
   "nbconvert_exporter": "python",
   "pygments_lexer": "ipython3",
   "version": "3.9.13"
  }
 },
 "nbformat": 4,
 "nbformat_minor": 5
}
